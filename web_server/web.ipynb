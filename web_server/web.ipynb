{
 "cells": [
  {
   "cell_type": "code",
   "execution_count": 1,
   "metadata": {
    "collapsed": false,
    "scrolled": true
   },
   "outputs": [],
   "source": [
    "#!pip3 install flask_wtf #--proxy=http://127.0.0.1:5865"
   ]
  },
  {
   "cell_type": "code",
   "execution_count": 2,
   "metadata": {
    "collapsed": false
   },
   "outputs": [],
   "source": [
    "from flask import Flask,render_template,jsonify\n",
    "from flask import Markup\n",
    "import collections\n",
    "from flask_sqlalchemy import SQLAlchemy\n",
    "app = Flask(__name__)\n",
    "app.config.from_object('config')\n",
    "DEBUG=True\n",
    "SITE_OWNER='Alex Xiao'\n",
    "services=dict()\n",
    "Service = collections.namedtuple('Service', ['core','input_type','output_type'])\n",
    "#set column to default nullable to false\n",
    "Service.__new__.__defaults__ = (None,)"
   ]
  },
  {
   "cell_type": "code",
   "execution_count": 1,
   "metadata": {
    "collapsed": false,
    "scrolled": false
   },
   "outputs": [],
   "source": [
    "import DB\n",
    "mydb=DB.DB('web.db')\n",
    "#mydb.DEBUG=DEBUG"
   ]
  },
  {
   "cell_type": "code",
   "execution_count": 4,
   "metadata": {
    "collapsed": false,
    "scrolled": true
   },
   "outputs": [],
   "source": [
    "import re\n",
    "def capitalize(str_in):\n",
    "    \"\"\"\n",
    "    Removed multiply spaces and capitalize the first letter of eeach word of str_in\n",
    "    \"\"\"\n",
    "    return re.sub(r\"\\w+\", lambda m: m.group(0).capitalize(), re.sub(' +',' ', str_in))\n"
   ]
  },
  {
   "cell_type": "code",
   "execution_count": 5,
   "metadata": {
    "collapsed": false
   },
   "outputs": [],
   "source": [
    "import hashlib\n",
    "def md5(in_str):\n",
    "    return hashlib.md5(in_str.encode('utf-8')).hexdigest()"
   ]
  },
  {
   "cell_type": "code",
   "execution_count": 23,
   "metadata": {
    "collapsed": false
   },
   "outputs": [
    {
     "data": {
      "text/plain": [
       "(ValueError('Type names and field names must be valid identifiers: \"date(\\'now\\')\"'),\n",
       " -1,\n",
       " 'error')"
      ]
     },
     "execution_count": 23,
     "metadata": {},
     "output_type": "execute_result"
    }
   ],
   "source": [
    "mydb.run(\"select date(\\'now\\');\")"
   ]
  },
  {
   "cell_type": "code",
   "execution_count": 3,
   "metadata": {
    "collapsed": false
   },
   "outputs": [],
   "source": [
    "import datetime\n",
    "import time\n"
   ]
  },
  {
   "cell_type": "code",
   "execution_count": 2,
   "metadata": {
    "collapsed": false
   },
   "outputs": [],
   "source": [
    "def warp_time(in_time):\n",
    "    return \"strftime('%Y-%m-%d %H:%M:%S',\"+in_time+\")\""
   ]
  },
  {
   "cell_type": "code",
   "execution_count": 22,
   "metadata": {
    "collapsed": false
   },
   "outputs": [],
   "source": [
    "def log(info):\n",
    "    curTS = datetime.datetime.fromtimestamp(time.time()).strftime('%Y-%m-%d %H:%M:%S')\n",
    "    try:\n",
    "        \n",
    "        mydb.insert('logs',['time','info'],[(curTS,info)])\n",
    "    except:\n",
    "        coldef=[DB.Column(name='time',type='datetime',nullable=False),\n",
    "                DB.Column(name='info',type='text',nullable=False)]\n",
    "        mydb.create_table('logs',coldef)\n",
    "        mydb.insert('logs',['time','info'],[(warp_time(curTS),info)])"
   ]
  },
  {
   "cell_type": "code",
   "execution_count": 23,
   "metadata": {
    "collapsed": false
   },
   "outputs": [
    {
     "data": {
      "text/plain": [
       "(sqlite3.OperationalError('no such table: logs'), -1, 'error')"
      ]
     },
     "execution_count": 23,
     "metadata": {},
     "output_type": "execute_result"
    }
   ],
   "source": [
    "mydb.select('logs')"
   ]
  },
  {
   "cell_type": "code",
   "execution_count": 6,
   "metadata": {
    "collapsed": false,
    "scrolled": true
   },
   "outputs": [
    {
     "name": "stdout",
     "output_type": "stream",
     "text": [
      "2 rows\n"
     ]
    }
   ],
   "source": [
    "def load_users():\n",
    "    userlist=[]\n",
    "    try:\n",
    "        userlist,cnt,data=mydb.select(\"users\")\n",
    "    except:\n",
    "        #init the DB if not exist\n",
    "        print(\"For 1st time run, initializing users tables\")\n",
    "        coldef=[mydb.Column(name='name',type='text',nullable=False),\n",
    "                mydb.Column(name='pwd',type='text',nullable=True),\n",
    "                mydb.Column(name='type',type='CHARACTER(1)')]\n",
    "        mydb.create_table('users',coldef)\n",
    "        mydb.insert('users',['name','type','pwd'],[('Alex Xiao','A',md5('abc001'))])\n",
    "        #mydb.insert('users',['name','type'],[('Michael Ngo','N')])\n",
    "        userlist,cnt,data=mydb.select(\"users\")\n",
    "        print(\"Created table users\")\n",
    "    rtn=dict()\n",
    "    User = collections.namedtuple('User', ['type','pwd'])\n",
    "    for u in userlist:        \n",
    "        rtn[u.name]=User(type=u.type,pwd=u.pwd)\n",
    "    return rtn\n",
    "userlist=load_users()"
   ]
  },
  {
   "cell_type": "code",
   "execution_count": 18,
   "metadata": {
    "collapsed": false
   },
   "outputs": [],
   "source": [
    "from flask import  flash, redirect,request,session,g\n",
    "from flask_wtf  import FlaskForm as Form\n"
   ]
  },
  {
   "cell_type": "code",
   "execution_count": 8,
   "metadata": {
    "collapsed": false
   },
   "outputs": [],
   "source": [
    "def my_render(html,**args):\n",
    "    \"\"\"\n",
    "    Redirect to render_template, with default paramaters\n",
    "    \"\"\"\n",
    "    if check_login(LoginForm()):\n",
    "        return redirect('/index')\n",
    "    return render_template(html, \n",
    "                           username=get_user(),\n",
    "                           usertype=get_user_type(),\n",
    "                           form=LoginForm(),\n",
    "                           **args)"
   ]
  },
  {
   "cell_type": "code",
   "execution_count": 9,
   "metadata": {
    "collapsed": false
   },
   "outputs": [],
   "source": [
    "\n",
    "from wtforms import StringField, BooleanField,PasswordField,SelectField,BooleanField,HiddenField\n",
    "from wtforms.validators import DataRequired\n",
    "\n",
    "class LoginForm(Form):\n",
    "    username = StringField('username', validators=[DataRequired()])\n",
    "    passwd =  PasswordField('password', default='PASS',validators=[DataRequired()])\n",
    "    remember_me_flag = BooleanField('remember_me_flag', default=False)\n",
    "    \n",
    "@app.route('/login', methods=['GET', 'POST'])\n",
    "def login():\n",
    "    return my_render('login.html', \n",
    "                           title='Sign In')"
   ]
  },
  {
   "cell_type": "code",
   "execution_count": 10,
   "metadata": {
    "collapsed": false
   },
   "outputs": [],
   "source": [
    "@app.route('/logout')\n",
    "def logout():\n",
    "    session.pop('username', None)\n",
    "    return redirect('/index')"
   ]
  },
  {
   "cell_type": "code",
   "execution_count": 11,
   "metadata": {
    "collapsed": false
   },
   "outputs": [],
   "source": [
    "class UserForm(Form):\n",
    "    updusername = StringField('username', validators=[DataRequired()])\n",
    "    updusertype=SelectField('usertype',choices=[('A','Administrator'),('N','Guest')],default='N')\n",
    "    updpasswd =  PasswordField('password', default='PASS',validators=[DataRequired()])\n",
    "    upddelflg=BooleanField('delflg',default=False)\n",
    "    updopttype=HiddenField('opttype',default=\"New\")\n",
    "    \n",
    "@app.route('/admin', methods = ['GET', 'POST'])\n",
    "def admin(): \n",
    "    global userlist\n",
    "    userlist=load_users()\n",
    "    ulist=list()\n",
    "    for user in userlist:\n",
    "        if userlist[user].pwd!='' and userlist[user].pwd!=None:\n",
    "            pwdsts='Set'\n",
    "        else:\n",
    "            pwdsts='Not set'\n",
    "        ulist.append({'username':user,'type':userlist[user].type,'pwdstatus':pwdsts})\n",
    "    #print(ulist)\n",
    "    return my_render('admin.html', userform=UserForm(),\n",
    "                           title='Admin Page',userlist=ulist)\n",
    "\n",
    "@app.route('/admin_user', methods = ['POST'])\n",
    "def admin_user(): \n",
    "    form=UserForm()\n",
    "    print(form.updusername.data,form.updusertype.data,form.updpasswd.data,\n",
    "          form.updopttype.data,form.upddelflg.data)\n",
    "    usr=capitalize(form.updusername.data)\n",
    "    if form.updopttype.data==\"New\":\n",
    "        #Adding new user\n",
    "        mydb.insert('users',['name','type','pwd'],[(usr,form.updusertype.data,md5(form.updpasswd.data))])\n",
    "        myflash('user '+usr+' has been added',\"green\")\n",
    "    else:\n",
    "        #process exising\n",
    "        if not form.upddelflg.data:\n",
    "            #update            \n",
    "            sql=\"update users set type='\"+form.updusertype.data+\"', pwd='\"+md5(form.updpasswd.data)+\"' where name='\"+usr+\"'\"\n",
    "            if DEBUG:\n",
    "                print(sql)\n",
    "            mydb.run(sql)\n",
    "            myflash('user '+usr+' has been updated',\"blue\")\n",
    "        else:\n",
    "            #delete\n",
    "            if usr==SITE_OWNER:\n",
    "                myflash('Not able to delete '+usr,\"red\")\n",
    "            else:\n",
    "                sql=\"delete from users where name='\"+usr+\"'\"\n",
    "                if DEBUG:\n",
    "                    print(sql)\n",
    "                mydb.run(sql)\n",
    "                myflash('user '+usr+' has been DELETED',\"red\")\n",
    "    \n",
    "    \n",
    "    return redirect('/admin')\n",
    "    \n",
    "    \n",
    "@app.route('/_check_upd_user')\n",
    "def check_user_exist():\n",
    "    usr = capitalize(request.args.get('username', 0, type=str))\n",
    "    \n",
    "    clr='red'\n",
    "    if usr in userlist:\n",
    "        rtn='E'\n",
    "    else:\n",
    "        rtn='N'\n",
    "        clr='green'\n",
    "    if DEBUG:\n",
    "        print('User name input, checking user',usr,'result is',rtn)\n",
    "    return jsonify(result=rtn, color=clr)"
   ]
  },
  {
   "cell_type": "code",
   "execution_count": 12,
   "metadata": {
    "collapsed": false,
    "scrolled": true
   },
   "outputs": [],
   "source": [
    "@app.route('/', methods = ['GET', 'POST'])\n",
    "@app.route('/index', methods = ['GET', 'POST'])\n",
    "def index():\n",
    "    #logs('Visited by '+request.)\n",
    "    posts = [  # fake array of posts\n",
    "        { \n",
    "            'author': {'nickname': 'John'}, \n",
    "            'body': 'Beautiful day in Portland!' \n",
    "        },\n",
    "        { \n",
    "            'author': {'nickname': 'Susan'}, \n",
    "            'body': 'The Avengers movie was so cool!' \n",
    "        }\n",
    "    ]\n",
    "    \n",
    "    \n",
    "    html_args={'posts':posts}\n",
    "    \n",
    "    return my_render(\"index.html\",posts=posts)\n",
    "#to reflcect Ajax call    \n",
    "@app.route('/_check_user')\n",
    "def check_usertype():\n",
    "    usr = capitalize(request.args.get('username', 0, type=str))\n",
    "    \n",
    "    clr='green'\n",
    "    if usr in userlist:\n",
    "        rtn=userlist[usr].type\n",
    "    else:\n",
    "        rtn='User Not found!'\n",
    "        clr='red'\n",
    "    if DEBUG:\n",
    "        print('User name input, checking user',usr,'result is',rtn)\n",
    "    return jsonify(result=rtn, color=clr)"
   ]
  },
  {
   "cell_type": "code",
   "execution_count": 13,
   "metadata": {
    "collapsed": false
   },
   "outputs": [],
   "source": [
    "def warp_font_color(string,color):\n",
    "    return Markup('<font color=\"'+color+'\">'+string+'</font>')\n",
    "def warp_span_color(string,color):\n",
    "    return Markup('<span style=\"color:'+color+'\">'+string+'</span>')\n",
    "\n",
    "def myflash(msg,color='black'):\n",
    "    flash(Markup(msg),color)\n",
    "    \n",
    "def get_user():\n",
    "    if 'username' in session:\n",
    "        return session['username']\n",
    "    return ''\n",
    "def get_user_type():\n",
    "    if get_user() in userlist:\n",
    "        return userlist[get_user()].type\n",
    "    return ''\n",
    "\n",
    "def check_login(form):\n",
    "    if form.validate_on_submit():\n",
    "        curuser =capitalize(form.username.data)\n",
    "        if curuser in userlist:\n",
    "            if userlist[curuser].type=='A':\n",
    "                #For admin\n",
    "                if userlist[curuser].pwd==md5(form.passwd.data):\n",
    "                    myflash('Welcome Administrator '+curuser+' !','green')\n",
    "                    session['username'] =curuser\n",
    "                    #password is correct\n",
    "                else:\n",
    "                    myflash('Wrong password for '+curuser+' !','red')\n",
    "            else:\n",
    "                #For normal user\n",
    "                myflash('Welcome '+curuser+' !')\n",
    "                session['username'] =curuser\n",
    "        else:\n",
    "            myflash('User '+curuser+' has NOT been registered! Please contact <a href=\"mailto:alex@alexxiao.me?subject=New user ['+curuser+'] to AlexXiao.me\">Alex!</a> ','red')\n",
    "        return True\n",
    "    return False"
   ]
  },
  {
   "cell_type": "code",
   "execution_count": 14,
   "metadata": {
    "collapsed": false
   },
   "outputs": [],
   "source": [
    "@app.route('/service/<service_name>')\n",
    "def distr_services(service_name=None, methods = ['GET', 'POST']):\n",
    "    if services[service_name].input_type=='get':\n",
    "        htmlname,rtn=process(service_name,request.args)\n",
    "    elif services[service_name].input_type=='post':\n",
    "        htmlname,rtn=process(service_name,request.form)\n",
    "    else:\n",
    "        htmlname,rtn=process(service_name,request.data)\n",
    "    return my_render(htmlname,rtn)"
   ]
  },
  {
   "cell_type": "code",
   "execution_count": null,
   "metadata": {
    "collapsed": true
   },
   "outputs": [],
   "source": [
    "class dummy_module:\n",
    "    def __init__(self,name):\n",
    "        self.name=name\n",
    "        self.status='invalid'\n",
    "\n",
    "#load module\n",
    "servicename=''\n",
    "standard_function_list=['start','stop','pause']\n",
    "try:\n",
    "    #to valid the module has expected functions\n",
    "    valid_functions(services[service_name],standard_function_list)\n",
    "    mol=loadmodule\n",
    "    services[service_name]=mol\n",
    "    mol.__setattr__('status','init')\n",
    "    mol.__setattr__('name','service_name')\n",
    "except:\n",
    "    services[service_name]=(dummy_module(servicename))\n"
   ]
  },
  {
   "cell_type": "code",
   "execution_count": 15,
   "metadata": {
    "collapsed": true
   },
   "outputs": [],
   "source": [
    "def process(service_name,input_args):  \n",
    "    if DEBUG:\n",
    "        print('processing ',service_name,'input type:',type(input_args))\n",
    "    if valid_function(services[service_name],'status'):\n",
    "        #make sure if the service has this function\n",
    "        if services[service_name].status\n",
    "    \n",
    "    return 'general_list.html','abc'"
   ]
  },
  {
   "cell_type": "code",
   "execution_count": 17,
   "metadata": {
    "collapsed": false,
    "scrolled": true
   },
   "outputs": [
    {
     "name": "stdout",
     "output_type": "stream",
     "text": [
      "processing  alex input type: <class 'werkzeug.datastructures.ImmutableMultiDict'>\n",
      "processing  alex1 input type: <class 'werkzeug.datastructures.ImmutableMultiDict'>\n",
      "processing  alex2 input type: <class 'bytes'>\n"
     ]
    }
   ],
   "source": [
    "app.run(port=5001)"
   ]
  },
  {
   "cell_type": "code",
   "execution_count": 18,
   "metadata": {
    "collapsed": false
   },
   "outputs": [
    {
     "data": {
      "text/plain": [
       "{'Alex Xiao': User(type='A', pwd='9bf049097142c168c38a94c626eddf3d'),\n",
       " 'Michael Ngo': User(type='N', pwd=None)}"
      ]
     },
     "execution_count": 18,
     "metadata": {},
     "output_type": "execute_result"
    }
   ],
   "source": [
    "userlist"
   ]
  }
 ],
 "metadata": {
  "anaconda-cloud": {},
  "kernelspec": {
   "display_name": "Python [Root]",
   "language": "python",
   "name": "Python [Root]"
  },
  "language_info": {
   "codemirror_mode": {
    "name": "ipython",
    "version": 3
   },
   "file_extension": ".py",
   "mimetype": "text/x-python",
   "name": "python",
   "nbconvert_exporter": "python",
   "pygments_lexer": "ipython3",
   "version": "3.5.2"
  }
 },
 "nbformat": 4,
 "nbformat_minor": 0
}
