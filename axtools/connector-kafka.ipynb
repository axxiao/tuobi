{
 "cells": [
  {
   "cell_type": "code",
   "execution_count": 1,
   "metadata": {
    "scrolled": true
   },
   "outputs": [],
   "source": [
    "\"\"\"\n",
    "The connector for Kafka\n",
    "__author__ = \"Alex Xiao <http://www.alexxiao.me/>\"\n",
    "__date__ = \"2017-04-22\"\n",
    "__version__ = \"0.5\"\n",
    "\n",
    "\"\"\"\n",
    "#!sudo pip3 install kafka-python"
   ]
  },
  {
   "cell_type": "code",
   "execution_count": 2,
   "metadata": {},
   "outputs": [],
   "source": [
    "from kafka import KafkaConsumer\n",
    "import queue\n",
    "from threading import Thread\n",
    "from kafka import KafkaProducer\n",
    "import time\n",
    "import json\n",
    "#from multiprocessing import Process\n",
    "from datetime import datetime\n",
    "from exceptions import TimeoutException"
   ]
  },
  {
   "cell_type": "code",
   "execution_count": 3,
   "metadata": {
    "collapsed": true
   },
   "outputs": [],
   "source": [
    "CONNECTOR_ID=0\n",
    "INIT_TIMEOUT=5000"
   ]
  },
  {
   "cell_type": "code",
   "execution_count": 4,
   "metadata": {},
   "outputs": [],
   "source": [
    "\n",
    "class receiver(Thread):\n",
    "    def __init__(self,topic,max_queue_size=2000):\n",
    "        Thread.__init__(self)\n",
    "        self.max_queue_size=max_queue_size\n",
    "        self.topic=topic\n",
    "        self.consumer = KafkaConsumer(topic)\n",
    "        self.Q=queue.Queue()\n",
    "        self.get=self.Q.get\n",
    "        self.empty=self.Q.empty\n",
    "        self.running=True\n",
    "        self.DEBUG=True\n",
    "        self.results=dict()\n",
    "        self.last_msg=None\n",
    "        self.listening=False\n",
    "       \n",
    "    def stop(self):\n",
    "        self.running=False\n",
    "        self.consumer.close()\n",
    "        \n",
    "    def debug(self,flag):\n",
    "        self.DEBUG=flag\n",
    "        \n",
    "    def check_clean(self):\n",
    "        #check and clean up queue\n",
    "        #if self.DEBUG:\n",
    "        #    print('Stopped listening to topic:',self.topic)\n",
    "        if self.last_msg!=None:\n",
    "            #ever recrived msg:\n",
    "            #1. Check Q\n",
    "            if self.Q.qsize()>self.max_queue_size:\n",
    "                if self.DEBUG:\n",
    "                    print('cleaning up commands received')\n",
    "                for i in range(0,self.max_queue_size/2):\n",
    "                    #throw away 1st half of the queue\n",
    "                    self.Q.get()\n",
    "            #2. Check dict\n",
    "            if len(self.results)>self.max_queue_size:\n",
    "                if self.DEBUG:\n",
    "                    print('cleaning up results received')\n",
    "                drop_list=sorted(list(self.results.keys()))\n",
    "                for k in range(0,int(len(drop_list)/2)):\n",
    "                    self.results.pop(k)\n",
    "\n",
    "        \n",
    "    def run(self):\n",
    "        if self.DEBUG:\n",
    "            print('Start listening to topic:',self.topic)\n",
    "        self.listening=True\n",
    "        while self.running:            \n",
    "            for msg in self.consumer:\n",
    "                if self.DEBUG:\n",
    "                    print('Topic:',self.topic,' original msg:',msg)\n",
    "                try:\n",
    "                    self.last_msg=msg\n",
    "                    #convert to json                    \n",
    "                    obj=json.loads(msg.value.decode())\n",
    "                    if obj['connector_id']==self.connector_id or obj['original_request'] :\n",
    "                        #discard if not for this connector\n",
    "                        if self.DEBUG:\n",
    "                            print('Topic:',self.topic,' received object:',obj)\n",
    "                        if obj['original_request']:\n",
    "                            obj['original_request']=False\n",
    "                        obj['received_timestamp']=msg.timestamp\n",
    "                        self.results[obj['msg_id']]=obj\n",
    "                except:\n",
    "                    if self.DEBUG:\n",
    "                        print('Topic:',self.topic,' received message:',msg)\n",
    "                    self.Q.put(msg)\n",
    "            #trigger clean up if the holding too many messsages\n",
    "            if self.Q.qsize()>self.max_queue_size or len(self.results)>self.max_queue_size:\n",
    "                self.check_clean()\n",
    "        self.listening\n",
    "        if self.DEBUG:\n",
    "            print('Stopped listening to topic:',self.topic)"
   ]
  },
  {
   "cell_type": "code",
   "execution_count": 5,
   "metadata": {
    "collapsed": true
   },
   "outputs": [],
   "source": [
    "class sender():\n",
    "    def __init__(self,**kwargs):\n",
    "        Thread.__init__(self)\n",
    "        self.producer = KafkaProducer(**kwargs)\n",
    "        self.send_binary=self.producer.send\n",
    "        self.flush=self.producer.flush\n",
    "        \n",
    "    def send(self,topic,string,timeout=0):\n",
    "        future = self.producer.send(topic,string.encode())\n",
    "        if timeout>0:\n",
    "            return future.get(timeout=timeout)"
   ]
  },
  {
   "cell_type": "code",
   "execution_count": 6,
   "metadata": {},
   "outputs": [],
   "source": [
    "class connector():\n",
    "    def __init__(self,**kwargs):\n",
    "        global CONNECTOR_ID\n",
    "        CONNECTOR_ID+=1\n",
    "        self.connector_id=CONNECTOR_ID\n",
    "        self.sender = sender(**kwargs)\n",
    "        self.send_binary = self.sender.send\n",
    "        self.receivers=dict()\n",
    "        self.reqest_id=0\n",
    "        self.results=dict()\n",
    "        self.DEBUG=True\n",
    "        \n",
    "    def listen(self,topic):\n",
    "        '''\n",
    "            Listening to a certain topic\n",
    "        '''\n",
    "        if topic not in self.receivers:\n",
    "            #not receiver has been set up\n",
    "            self.receivers[topic]=receiver(topic)\n",
    "            self.receivers[topic].start()\n",
    "            self.receivers[topic].__setattr__('timeout',50)\n",
    "            self.receivers[topic].__setattr__('connector_id',self.connector_id)\n",
    "            while not self.receivers[topic].listening:\n",
    "                time.sleep(1)\n",
    "            \n",
    "    \n",
    "    def get_request_id(self):\n",
    "        self.reqest_id+=1\n",
    "        return self.reqest_id\n",
    "    \n",
    "    def receive(self,topic,txnid,timeout):\n",
    "        '''\n",
    "            To receive reply, is called by request function\n",
    "            topic: the topic which the reply will be from\n",
    "            txnid: the id of the tranaction you are looking for\n",
    "            timeout: in milliseconds\n",
    "        '''\n",
    "        timeout_ts=time.time() * 1000 +timeout\n",
    "        if self.receivers[topic].last_msg==None:\n",
    "            timeout_ts=time.time() * 1000 +INIT_TIMEOUT\n",
    "        while True:\n",
    "            if txnid in self.receivers[topic].results:\n",
    "                break\n",
    "            if time.time() * 1000>timeout_ts:\n",
    "                if self.DEBUG:\n",
    "                    print('Timeout when waiting for response from: ',topic,' Id [',txnid,']')\n",
    "                raise TimeoutException()\n",
    "            #time.sleep(1)\n",
    "        return self.receivers[topic].results.pop(txnid)\n",
    "    \n",
    "    def request(self,topic_to,topic_rec_from,msg,timeout=-1):\n",
    "        '''\n",
    "            To request a reply from certain topic\n",
    "            topic_to: the topic accepts requests\n",
    "            topic_rec_from: the topic which the reply will be from\n",
    "            msg: The real request message\n",
    "            timeout: [default to 50] in milliseconds\n",
    "        \n",
    "        '''\n",
    "        #send and receive\n",
    "        \n",
    "        self.listen(topic_rec_from)\n",
    "        if timeout<0:\n",
    "            timeout=self.receivers[topic_rec_from].timeout\n",
    "            if self.DEBUG:\n",
    "                print('No timeout set, use default from the topic: ',timeout)\n",
    "        txnid=self.get_request_id()\n",
    "        outmsg=dict()\n",
    "        outmsg['connector_id']=self.connector_id\n",
    "        outmsg['msg_id']=txnid\n",
    "        outmsg['msg']=msg\n",
    "        outmsg['original_request']=True\n",
    "        self.send_obj(topic_to,outmsg)\n",
    "        #p = Process(target=\n",
    "        #self.send_receive(topic_rec_from,txnid,timeout)\n",
    "        #p.start()\n",
    "        #p.join(timeout)\n",
    "        #self.receivers[topic_rec_from].remove(txnid)\n",
    "        return self.receive(topic_rec_from,txnid,timeout)\n",
    "        \n",
    "    \n",
    "    def get(self,topic):\n",
    "        '''\n",
    "            Get a none-standard message e,g, command from the queue\n",
    "        '''\n",
    "        self.listen(topic)\n",
    "        yield self.receivers[topic].get()\n",
    "        \n",
    "    def send_obj(self,topic,obj,timeout=0):\n",
    "        return self.send(topic,json.dumps(obj),timeout)\n",
    "        \n",
    "    def send(self,topic,string,timeout=0):\n",
    "        '''\n",
    "            Send info via sender\n",
    "            topic: the topic message is sent to\n",
    "            string: message in string\n",
    "            timeout: [default to 0], if greater than 0 will be block-send\n",
    "        '''\n",
    "        return self.sender.send(topic,string,timeout)\n",
    "    \n",
    "    def stop(self):\n",
    "        '''\n",
    "            Stop all the listening receivers and quit\n",
    "        '''\n",
    "        #sending stop signal\n",
    "        for rec in self.receivers:\n",
    "            self.receivers[rec].stop()\n",
    "            self.send(self.receivers[rec].topic,'closing')\n",
    "            self.receivers[rec].join()\n",
    "        if self.DEBUG:\n",
    "            print('Connector offline')\n",
    "            "
   ]
  },
  {
   "cell_type": "code",
   "execution_count": 7,
   "metadata": {
    "scrolled": true
   },
   "outputs": [],
   "source": [
    "#conn=connector(bootstrap_servers='localhost:9092')\n"
   ]
  },
  {
   "cell_type": "code",
   "execution_count": 8,
   "metadata": {
    "scrolled": true
   },
   "outputs": [],
   "source": [
    "#conn.request('test2','test2','ab3cd')\n",
    "#Sample of msg:\n",
    "#Topic: test  original msg: ConsumerRecord(topic='test', partition=0, offset=115, timestamp=1490236534335, timestamp_type=0, key=None, value=b'{\"connector_id\": 2, \"msg\": \"ab3cd\", \"msg_id\": 3}', checksum=169569946, serialized_key_size=-1, serialized_value_size=48)"
   ]
  },
  {
   "cell_type": "code",
   "execution_count": 9,
   "metadata": {
    "scrolled": false
   },
   "outputs": [],
   "source": [
    "#conn.stop()"
   ]
  },
  {
   "cell_type": "code",
   "execution_count": 10,
   "metadata": {},
   "outputs": [],
   "source": [
    "class connector_server(Thread):\n",
    "    def __init__(self,in_topic,out_topic,**kwargs):\n",
    "        Thread.__init__(self)\n",
    "        self.conn=connector(**kwargs)\n",
    "        self.in_topic=in_topic\n",
    "        self.out_topic=out_topic\n",
    "        self.conn.listen(self.in_topic)\n",
    "        self.running=True\n",
    "    \n",
    "    def start(self):\n",
    "        self.running=True\n",
    "    \n",
    "    def stop(self):\n",
    "        self.running=False\n",
    "        self.conn.stop()\n",
    "        \n",
    "    def init_logic(self):\n",
    "        pass\n",
    "    \n",
    "    def after_logic(self):\n",
    "        pass\n",
    "    \n",
    "        \n",
    "    def reply(self,msg):\n",
    "        self.conn.send_obj(self.out_topic,msg)\n",
    "    \n",
    "    def core_logic(self,in_msg):\n",
    "        #raise TypeError('The core logic needs to be overwritten')\n",
    "        #default is echo\n",
    "        self.relply(in_msg)\n",
    "        print('echoing:',in_msg)\n",
    "        \n",
    "    \n",
    "    def run(self):\n",
    "        self.init_logic()\n",
    "        incoming=self.conn.receivers[self.in_topic].results\n",
    "        while self.running:\n",
    "            for msgkey in list(incoming.keys()):\n",
    "                self.core_logic(incoming.pop(msgkey))\n",
    "        self.after_logic()"
   ]
  },
  {
   "cell_type": "markdown",
   "metadata": {},
   "source": [
    "ss=connector_server('test','test_reply',bootstrap_servers='localhost:9092')\n",
    "ss.start()"
   ]
  },
  {
   "cell_type": "markdown",
   "metadata": {},
   "source": [
    "conn=connector(bootstrap_servers='localhost:9092')"
   ]
  },
  {
   "cell_type": "markdown",
   "metadata": {},
   "source": [
    "conn.request('test','test_reply','abc')"
   ]
  },
  {
   "cell_type": "markdown",
   "metadata": {},
   "source": [
    "class server_echo(Thread):\n",
    "    def __init__(self):\n",
    "        Thread.__init__(self)\n",
    "        self.conn=connector(bootstrap_servers='localhost:9092')\n",
    "        self.conn.listen('test1')\n",
    "    \n",
    "    def run(self):\n",
    "        print('echo server is up')\n",
    "        while True:\n",
    "            for incoming in list(self.conn.receivers['test1'].results.keys()):\n",
    "                print('echo server got a message [',incoming,']')\n",
    "                obj=self.conn.receivers['test1'].results.pop(incoming)\n",
    "                print('[echo server]',obj)\n",
    "                obj['msg']='Echo:'+obj['msg']\n",
    "                self.conn.send_obj('test_reply',obj)\n",
    "ss=server_echo()\n",
    "ss.start()"
   ]
  },
  {
   "cell_type": "markdown",
   "metadata": {
    "collapsed": true
   },
   "source": [
    "conn=connector(bootstrap_servers='localhost:9092')"
   ]
  },
  {
   "cell_type": "markdown",
   "metadata": {},
   "source": [
    "conn.request('test2','test2','ab3cd')"
   ]
  }
 ],
 "metadata": {
  "kernelspec": {
   "display_name": "Python 3",
   "language": "python",
   "name": "python3"
  },
  "language_info": {
   "codemirror_mode": {
    "name": "ipython",
    "version": 3
   },
   "file_extension": ".py",
   "mimetype": "text/x-python",
   "name": "python",
   "nbconvert_exporter": "python",
   "pygments_lexer": "ipython3",
   "version": "3.5.2"
  }
 },
 "nbformat": 4,
 "nbformat_minor": 2
}
