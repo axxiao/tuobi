{
 "cells": [
  {
   "cell_type": "code",
   "execution_count": null,
   "metadata": {
    "collapsed": true
   },
   "outputs": [],
   "source": [
    "\"\"\"\n",
    "The DB tools for Sqlite 3\n",
    "\n",
    "__author__ = \"Alex Xiao <http://www.alexxiao.me/>\"\n",
    "__date__ = \"2017-02-08\"\n",
    "__version__ = \"0.5\"\n",
    "\n",
    "\"\"\""
   ]
  },
  {
   "cell_type": "code",
   "execution_count": 1,
   "metadata": {
    "collapsed": true
   },
   "outputs": [],
   "source": [
    "import sqlite3\n",
    "import collections\n",
    "#conn = sqlite3.connect('example.db')\n",
    "# to create in memory database use\n",
    "#conn = sqlite3.connect(':memory:')"
   ]
  },
  {
   "cell_type": "code",
   "execution_count": 3,
   "metadata": {
    "collapsed": false
   },
   "outputs": [],
   "source": [
    "sqlite3.enable_shared_cache(True)"
   ]
  },
  {
   "cell_type": "code",
   "execution_count": 7,
   "metadata": {
    "collapsed": true
   },
   "outputs": [],
   "source": [

    "Column = collections.namedtuple('Column', ['name','type','nullable'])\n",
    "Column.__new__.__defaults__ = (False,)\n",
    "\n",

    "\n",
    "class DB:\n",
    "    def __init__(self,dbname,**args):\n",
    "        self.conn=None\n",
    "        self.DB_NAME=dbname\n",
    "        self.DEBUG=True\n",

    "        self.conn = sqlite3.connect(self.DB_NAME,**args)\n",

    "\n",
    "    def connect(self,**args):\n",
    "        #file::memory:?cache=shared to open a shared DB\n",
    "        #global DB_NAME, conn\n",
    "        if self.conn!=None:\n",
    "            #Try to check/ disconnect\n",
    "            #TBC\n",
    "            if self.DEBUG:\n",
    "                print('Trying to check beforce connect')\n",
    "        self.conn = sqlite3.connect(self.DB_NAME,**args)\n",
    "        \n",
    "    def disconnect(self):\n",
    "        self.conn.close()\n",
    "\n",
    "    def run(self,cmd,variables=None):\n",
    "        \"\"\"\n",
    "        Run the DB command\n",
    "        Input Parameters\n",
    "            cmd: the actual command\n",
    "            variables: [Optional] variables if any\n",
    "        Output:\n",
    "            Result set: [list of named tuple]\n",
    "            Row  count: Integer\n",
    "            Result Type: String data/ cmd/ error\n",
    "        \"\"\"   \n",

    "        c=None\n",

    "        try:\n",
    "            c = self.conn.cursor()\n",
    "            if variables!=None:\n",
    "                c.executemany(cmd,variables)\n",
    "            else:\n",
    "                c.execute(cmd)   \n",
    "            rtn=c.fetchall()\n",
    "            cnt=len(rtn)\n",
    "            rtype='data'\n",
    "            if 'select' not in cmd.lower():\n",
    "                self.conn.commit()  \n",
    "                cnt=c.rowcount\n",
    "                rtype='cmd'\n",
    "            else:\n",
    "                header=''\n",
    "                for colheader in c.description:\n",
    "                    header+=colheader[0]+' '\n",
    "                RES=collections.namedtuple('Data',header.strip())\n",
    "                rtno=rtn\n",
    "                rtn=[]\n",
    "                for cur in range(0,cnt):\n",
    "                    #convert to namedtuple\n",
    "                    rtn.append(RES(*rtno[cur]))\n",
    "            if self.DEBUG:\n",
    "                print(cnt,'rows')\n",

    "        except Exception as e:\n",
    "            rtype='error'\n",
    "            rtn=e\n",
    "            cnt=-2\n",
    "            \n",
    "        if c!=None:\n",
    "            c.close()\n",

    "        return rtn,cnt,rtype\n",
    "\n",
    "    def create_list_of_tuple(self,headers=[],data=[],tupletype='Data'):\n",
    "        \"\"\"\n",
    "        The function to create list of named tuple from normal tuple\n",
    "        Inputs:\n",
    "            headers: list of header names\n",
    "            data: list of tuples\n",
    "            tupletype [Optional]: The type name of the tuple, default to Data\n",
    "        Output:\n",
    "            the named tuple\n",
    "        \"\"\"\n",
    "        rtn=[]\n",
    "        RES=collections.namedtuple(tupletype,headers)\n",
    "        for cur in range(0,len(data)):\n",
    "                #convert to namedtuple\n",
    "                rtn.append(RES(*data[cur]))    \n",
    "        return rtn\n",
    "\n",
    "    def create_table(self,tablename,coldef):\n",
    "        \"\"\"\n",
    "        The default table creator, it will create table with id as primary which is auto incremental\n",
    "        Input:\n",
    "            tablename: the name of the table\n",
    "            coldef: namedtuple of column definitions, e.g\n",
    "                coldef=[Column(name='name',type='text',nullable=True),Column(name='type',type='CHARACTER(1)')]\n",
    "        Output: N/A\n",
    "        \"\"\"\n",
    "\n",
    "        stmt=\"create table \"+tablename+'(ID INTEGER  PRIMARY KEY AUTOINCREMENT'\n",
    "        for col in coldef:\n",
    "            stmt+=','\n",
    "            stmt+=col.name+' '+col.type\n",
    "            if not col.nullable:\n",
    "                stmt+=' NOT NULL '\n",
    "        stmt+=')'\n",
    "        rtn=self.run(stmt)\n",
    "        index_stmt='CREATE INDEX '+tablename+'_main_index ON '+tablename+'(id)'\n",
    "        return self.run(index_stmt)\n",
    "\n",
    "    def insert(self,tablename,headers=[], data=[]):\n",
    "        \"\"\"\n",
    "        Insert into table\n",
    "\n",
    "        Inputs:\n",
    "            tablename: the target table\n",
    "            headers: the list of headers e.g. headers=['name','type']\n",
    "            data: list of data e.g. data = [('Alex Xiao','A'),('Michael Ngo','N')]\n",
    "        Output:\n",
    "            Number of rows instered\n",
    "        \"\"\"\n",
    "\n",
    "        stmt='INSERT INTO '+tablename+' ('\n",
    "        c=0\n",
    "        for col in headers:\n",
    "            if c>0:\n",
    "                stmt+=','\n",
    "            stmt+=col\n",
    "            c+=1\n",
    "        stmt+=') VALUES (?'\n",
    "        for num in range(1,len(data[0])):\n",
    "            stmt+=',?'\n",
    "        stmt+=')'\n",
    "        return self.run(stmt, data)\n",
    "\n",
    "    def select(self,tablename):\n",
    "        return self.run('select * from '+tablename)"
   ]
  },
  {
   "cell_type": "code",
   "execution_count": 8,
   "metadata": {
    "collapsed": false,
    "scrolled": false
   },
   "outputs": [],
   "source": [
    "im_memory_share=DB(\"file:in_mem_db?mode=memory&cache=shared\",uri=True)"
   ]
  },
  {
   "cell_type": "code",
   "execution_count": null,
   "metadata": {
    "collapsed": true
   },
   "outputs": [],
   "source": []
  }
 ],
 "metadata": {
  "kernelspec": {
   "display_name": "Python 3",
   "language": "python",
   "name": "python3"
  },
  "language_info": {
   "codemirror_mode": {
    "name": "ipython",
    "version": 3
   },
   "file_extension": ".py",
   "mimetype": "text/x-python",
   "name": "python",
   "nbconvert_exporter": "python",
   "pygments_lexer": "ipython3",
   "version": "3.5.2"
  }
 },
 "nbformat": 4,
 "nbformat_minor": 2
}
