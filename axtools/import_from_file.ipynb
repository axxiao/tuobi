{
 "cells": [
  {
   "cell_type": "code",
   "execution_count": null,
   "metadata": {
    "collapsed": true
   },
   "outputs": [],
   "source": [
    "\"\"\"\n",
    "To load module dynamitically\n",
    "\n",
    "__author__ = \"Alex Xiao <http://www.alexxiao.me/>\"\n",
    "__date__ = \"2017-02-08\"\n",
    "__version__ = \"0.5\"\n",
    "\n",
    "\"\"\""
   ]
  },
  {
   "cell_type": "code",
   "execution_count": 2,
   "metadata": {
    "collapsed": false,
    "scrolled": true
   },
   "outputs": [],
   "source": [
    "import importlib\n",
    "import notebook_extract\n",
    "\n",
    "import os.path"
   ]
  },
  {
   "cell_type": "code",
   "execution_count": 3,
   "metadata": {
    "collapsed": true
   },
   "outputs": [],
   "source": [
    "\n",
    "DEBUG=True"
   ]
  },
  {
   "cell_type": "code",
   "execution_count": 4,
   "metadata": {
    "collapsed": true
   },
   "outputs": [],
   "source": [
    "def set_DEBUG(flg):\n",
    "    DEBUG=flg\n",
    "    if DEBUG:\n",
    "        notebook_extract.OUT_FLAG=True\n",
    "    else:\n",
    "        notebook_extract.OUT_FLAG=False"
   ]
  },
  {
   "cell_type": "code",
   "execution_count": 7,
   "metadata": {
    "collapsed": true
   },
   "outputs": [],
   "source": [
    "def extract_py(path,module):\n",
    "    extr=notebook_extract.JupyterNotebookExtract()\n",
    "    if os.path.isabs(path):\n",
    "        module_file_name=os.path.join(path,module)\n",
    "    else:\n",
    "        module_file_name=os.path.join(extr.base_dir,path,module)\n",
    "    nbTS=-1.0\n",
    "    nbfname=module_file_name+'.ipynb'\n",
    "    if os.path.isfile(nbfname):\n",
    "        #found the time\n",
    "        nbTS=os.path.getmtime(nbfname) \n",
    "    pyTS=-1.0\n",
    "    pyfname=module_file_name+'.py'\n",
    "    if os.path.isfile(pyfname):\n",
    "        #found the time\n",
    "        pyTS=os.path.getmtime(pyfname) \n",
    "    if nbTS>pyTS:\n",
    "        #.ipynb is later than .py\n",
    "        if DEBUG:\n",
    "            print('Found change, converting latest',nbfname,'to',pyfname)\n",
    "        extr.extract(nbfname,pyfname,True)"
   ]
  },
  {
   "cell_type": "code",
   "execution_count": 8,
   "metadata": {
    "collapsed": true
   },
   "outputs": [],
   "source": [
    "def load_module(path,module):\n",
    "    extract_py(path,module)\n",
    "    return importlib.import_module(module)"
   ]
  },
  {
   "cell_type": "code",
   "execution_count": 10,
   "metadata": {
    "collapsed": false
   },
   "outputs": [
    {
     "name": "stdout",
     "output_type": "stream",
     "text": [
      "Found change, converting latest /data/tuobi/axtools/import_from_file.ipynb to /data/tuobi/axtools/import_from_file.py\n"
     ]
    }
   ],
   "source": [
    "#extract_py('axtools','import_from_file')"
   ]
  }
 ],
 "metadata": {
  "kernelspec": {
   "display_name": "Python 3",
   "language": "python",
   "name": "python3"
  },
  "language_info": {
   "codemirror_mode": {
    "name": "ipython",
    "version": 3
   },
   "file_extension": ".py",
   "mimetype": "text/x-python",
   "name": "python",
   "nbconvert_exporter": "python",
   "pygments_lexer": "ipython3",
   "version": "3.5.2"
  }
 },
 "nbformat": 4,
 "nbformat_minor": 2
}
