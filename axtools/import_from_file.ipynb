{
 "cells": [
  {
   "cell_type": "code",
   "execution_count": 7,
   "metadata": {
    "collapsed": false,
    "scrolled": true
   },
   "outputs": [],
   "source": [
    "import importlib\n",
    "import notebook_extract\n",
    "\n",
    "import os.path"
   ]
  },
  {
   "cell_type": "code",
   "execution_count": 8,
   "metadata": {
    "collapsed": true
   },
   "outputs": [],
   "source": [
    "\n",
    "DEBUG=True"
   ]
  },
  {
   "cell_type": "code",
   "execution_count": 9,
   "metadata": {
    "collapsed": true
   },
   "outputs": [],
   "source": [
    "def set_DEBUG(flg):\n",
    "    DEBUG=flg\n",
    "    if DEBUG:\n",
    "        notebook_extract.OUT_FLAG=True\n",
    "    else:\n",
    "        notebook_extract.OUT_FLAG=False"
   ]
  },
  {
   "cell_type": "code",
   "execution_count": 10,
   "metadata": {
    "collapsed": true
   },
   "outputs": [],
   "source": [
    "def load_module(path,module):\n",
    "    extr=notebook_extract.JupyterNotebookExtract()\n",
    "    if os.path.isabs(path):\n",
    "        module_file_name=os.path.join(path,module)\n",
    "    else:\n",
    "        module_file_name=os.path.join(extr.base_dir,path,module)\n",
    "    nbTS=-1.0\n",
    "    nbfname=module_file_name+'.ipynb'\n",
    "    if os.path.isfile(nbfname):\n",
    "        #found the time\n",
    "        nbTS=os.path.getmtime(nbfname) \n",
    "    pyTS=-1.0\n",
    "    pyfname=module_file_name+'.py'\n",
    "    if os.path.isfile(pyfname):\n",
    "        #found the time\n",
    "        pyTS=os.path.getmtime(pyfname) \n",
    "    if nbTS>pyTS:\n",
    "        #.ipynb is later than .py\n",
    "        if DEBUG:\n",
    "            print('Found change, converting latest',nbfname,'to',pyfname)\n",
    "        extr.extract(nbfname,pyfname,True)\n",
    "    return importlib.import_module(module)"
   ]
  },
  {
   "cell_type": "code",
   "execution_count": null,
   "metadata": {
    "collapsed": true
   },
   "outputs": [],
   "source": []
  }
 ],
 "metadata": {
  "kernelspec": {
   "display_name": "Python 3",
   "language": "python",
   "name": "python3"
  },
  "language_info": {
   "codemirror_mode": {
    "name": "ipython",
    "version": 3
   },
   "file_extension": ".py",
   "mimetype": "text/x-python",
   "name": "python",
   "nbconvert_exporter": "python",
   "pygments_lexer": "ipython3",
   "version": "3.5.2"
  }
 },
 "nbformat": 4,
 "nbformat_minor": 2
}
