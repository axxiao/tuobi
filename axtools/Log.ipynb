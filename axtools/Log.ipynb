{
 "cells": [
  {
   "cell_type": "code",
   "execution_count": 1,
   "metadata": {
    "collapsed": false
   },
   "outputs": [
    {
     "data": {
      "text/plain": [
       "'\\nThe Log manager\\n\\nShould be placed at <jupyter notebook root>/axtoools\\n\\n__author__ = \"Alex Xiao <http://www.alexxiao.me/>\"\\n__date__ = \"2017-02-08\"\\n__version__ = \"0.5\"\\n\\n'"
      ]
     },
     "execution_count": 1,
     "metadata": {},
     "output_type": "execute_result"
    }
   ],
   "source": [
    "\"\"\"\n",
    "The Log manager\n",
    "\n",
    "Should be placed at <jupyter notebook root>/axtoools\n",
    "\n",
    "__author__ = \"Alex Xiao <http://www.alexxiao.me/>\"\n",
    "__date__ = \"2017-02-08\"\n",
    "__version__ = \"0.5\"\n",
    "\n",
    "\"\"\""
   ]
  },
  {
   "cell_type": "code",
   "execution_count": 1,
   "metadata": {
    "collapsed": false
   },
   "outputs": [],
   "source": [
    "DEBUG=True\n",
    "SQL_ERR_NoLogTable='no such table'\n",
    "DAEMON_INTERVAL=3600 #default to every 10 mins\n",
    "DAEMON=True\n",
    "DAEMON_STATUS='Init'\n",
    "MAX_NUM_LOGS_RETAIN=50000\n"
   ]
  },
  {
   "cell_type": "code",
   "execution_count": 1,
   "metadata": {
    "collapsed": false
   },
   "outputs": [],
   "source": [
    "from DB import get_im_memory_share, Column\n",
    "from tools import tryrun\n",
    "import datetime,time\n",
    "from threading import Thread"
   ]
  },
  {
   "cell_type": "code",
   "execution_count": 3,
   "metadata": {
    "collapsed": false
   },
   "outputs": [],
   "source": [
    "import queue\n",
    "Q=queue.Queue()"
   ]
  },
  {
   "cell_type": "code",
   "execution_count": 4,
   "metadata": {
    "collapsed": false
   },
   "outputs": [],
   "source": [
    "class Logger(Thread):\n",
    "    \n",
    "    def __init__(self,queue):\n",
    "        Thread.__init__(self)\n",
    "        self.Q=queue\n",
    "        \n",
    "        \n",
    "    def run(self):     \n",
    "               \n",
    "        cache=get_im_memory_share()\n",
    "        self.log(cache,'Logger init...','System') \n",
    "        while DAEMON:\n",
    "            while not self.Q.empty():\n",
    "                #Get the items from queue and do log\n",
    "                log_type,info,service=self.Q.get()\n",
    "                #print(info,service,log_type)\n",
    "                self.log(cache,info,service,log_type)\n",
    "            time.sleep(1)\n",
    "        self.log(cache,'Logger is stopped','System') \n",
    "        if DEBUG:\n",
    "            print('Logger is stopped')\n",
    "    \n",
    "    def warp_time(self,in_time):\n",
    "        return datetime.datetime.fromtimestamp(in_time).strftime('%Y-%m-%d %H:%M:%S')\n",
    "\n",
    "    def log(self,cache,info,service=None,log_type='Info'):\n",
    "        #curTS = datetime.datetime.fromtimestamp(time.time()).strftime('%Y-%m-%d %H:%M:%S')\n",
    "        curTS=self.warp_time(time.time())\n",
    "        collist=['time','type','info','service']\n",
    "        if service!=None:        \n",
    "            if str(type(service))==\"<class 'str'>\":\n",
    "                servicename=service\n",
    "            else:\n",
    "                servicename=service.name\n",
    "        else:\n",
    "            servicename='Unknown'\n",
    "        inp=[(curTS,log_type,info,servicename)]\n",
    "\n",
    "        rtn,rcode,rtype=cache.insert('logs',collist,inp)\n",
    "        if rtype=='error':\n",
    "            if SQL_ERR_NoLogTable in rtn.args[0]:\n",
    "                #in case of log table has not been created yet, create the table\n",
    "                if DEBUG:\n",
    "                    print(\"Init, creating logs table\")\n",
    "\n",
    "                coldef=[Column(name='time',type='datetime',nullable=False),\n",
    "                        Column(name='type',type='text',nullable=False),\n",
    "                        Column(name='service',type='text',nullable=False),\n",
    "                        Column(name='info',type='text',nullable=False)]\n",
    "                cache.create_table('logs',coldef)\n",
    "                cache.insert('logs',['time','type','service','info'],[(self.warp_time(time.time()),'Info','System','Table logs is created.')])\n",
    "                cache.insert('logs',['time','type','service','info'],[(self.warp_time(time.time()),'Info','System',info)])\n",
    "            else:\n",
    "                if DEBUG:\n",
    "                    print('Error:',rtn)\n",
    "                raise ValueError(rtn[0].args)\n",
    "                \n",
    "def stop():\n",
    "    global DAEMON\n",
    "    DAEMON=False\n",
    "\n",
    "def log(info,service=None,log_type='Info'):\n",
    "    Q.put([log_type,info,service])        "
   ]
  },
  {
   "cell_type": "code",
   "execution_count": 5,
   "metadata": {
    "collapsed": false
   },
   "outputs": [],
   "source": [
    "def start_logger():\n",
    "    global DAEMON\n",
    "    logger=Logger(Q)\n",
    "    DAEMON=True\n",
    "    logger.daemon=True\n",
    "    logger.start()\n",
    "    return logger"
   ]
  },
  {
   "cell_type": "code",
   "execution_count": 6,
   "metadata": {
    "collapsed": false,
    "scrolled": false
   },
   "outputs": [],
   "source": [
    "class log_daemon(Thread):\n",
    "    \"\"\"\n",
    "    The demon thread that make sure log prcoess working\n",
    "    \"\"\"\n",
    "    def run(self):     \n",
    "        self.cache=get_im_memory_share()\n",
    "        \n",
    "        while DAEMON:\n",
    "            if DEBUG:\n",
    "                print('Demon is checking...')\n",
    "            log('Log Demon Checking...','Log Demon')\n",
    "            global DAEMON_STATUS\n",
    "            rtn,rcd,rtype=self.cache.run('select count(1) cnt from logs')\n",
    "            #print(rtn)\n",
    "            if rtype=='data':\n",
    "                DAEMON_STATUS='Checking'\n",
    "                cnum=rtn[0].cnt\n",
    "                ENUM=(MAX_NUM_LOGS_RETAIN*2)\n",
    "                if cnum>ENUM:\n",
    "                    #purge data more than expected number\n",
    "                    rtn,rcd,rtype=self.cache.run('select max(id) mid from logs')\n",
    "                    smid=rtn[0].mid-MAX_NUM_LOGS_RETAIN\n",
    "                    msg='Demon is cleaning up logs id less than '+str(smid)\n",
    "                    \n",
    "                    log(msg,'Log Demon')\n",
    "                    sql='delete from logs where id<='+str(smid)\n",
    "                    if DEBUG:\n",
    "                        print(msg)\n",
    "                        print(sql)\n",
    "                    self.cache.run(sql)\n",
    "            else:\n",
    "                DAEMON_STATUS='Error'\n",
    "                #raise ValueError('Unable to check logs table','Log Demon')\n",
    "                log('[ERROR] Demon Failed, reason:'+rtn.args[0],'Log Demon','Error')\n",
    "                \n",
    "            DAEMON_STATUS='Sleepinng'    \n",
    "                \n",
    "            \n",
    "            if DEBUG:\n",
    "                print('Demon is going to sleep',DAEMON_INTERVAL/60,'minutes before next check.')\n",
    "            log('Log Demon Sleeping, will be awake in '+str(DAEMON_INTERVAL/60)+' minutes','Log Demon')\n",
    "            time.sleep(DAEMON_INTERVAL)\n",
    "        #End of process\n",
    "        if DEBUG:\n",
    "                print('Demon is stopped')\n",
    "        log('Log Demon Stopped','Log Demon')\n",
    "    \n",
    "    \n",
    "def start_daemon():\n",
    "    global DAEMON\n",
    "    DAEMON=True\n",
    "    log('Log Demon Starting...','Log Demon')\n",
    "    t=log_daemon()\n",
    "    t.daemon=True\n",
    "    t.start()\n",
    "    return t"
   ]
  },
  {
   "cell_type": "code",
   "execution_count": 9,
   "metadata": {
    "collapsed": false,
    "scrolled": true
   },
   "outputs": [
    {
     "name": "stdout",
     "output_type": "stream",
     "text": [
      "Init, creating logs table\n",
      "-1 rows\n",
      "-1 rows\n",
      "1 rows\n",
      "1 rows\n",
      "1 rows\n",
      "Demon is checking...\n",
      "1 rows\n",
      "Demon is going to sleep 0.16666666666666666 minutes before next check.\n",
      "1 rows\n",
      "1 rows\n",
      "Demon is checking...\n",
      "1 rows\n",
      "Demon is going to sleep 0.16666666666666666 minutes before next check.\n",
      "1 rows\n",
      "1 rows\n",
      "Demon is checking...1 \n",
      "rows1\n",
      " 1rows \n",
      "rowsDemon is going to sleep\n",
      " 0.16666666666666666 minutes before next check.\n",
      "Demon is checking...\n",
      "1 rows\n",
      "Demon is going to sleep 0.16666666666666666 minutes before next check.\n",
      "1 rows\n",
      "1 rows\n",
      "Demon is checking...\n",
      "1 rows\n",
      "1 rows\n",
      "Demon is cleaning up logs id less than 6\n",
      "delete from logs where id<=6\n",
      "6 rows\n",
      "Demon is going to sleep 0.16666666666666666 minutes before next check.\n",
      "1 rows\n",
      "1 rows\n",
      "1 rows\n",
      "Demon is checking...\n",
      "1 rows\n",
      "Demon is going to sleep 0.16666666666666666 minutes before next check.\n",
      "1 rows\n",
      "1 rows\n",
      "Demon is checking...\n",
      "1 rows\n",
      "Demon is going to sleep 0.16666666666666666 minutes before next check.\n",
      "1 rows\n",
      "1 rows\n",
      "Demon is checking...\n",
      "1 rows\n",
      "1 rows\n",
      "Demon is cleaning up logs id less than 13\n",
      "delete from logs where id<=13\n",
      "7 rows\n",
      "Demon is going to sleep 0.16666666666666666 minutes before next check.\n",
      "1 rows\n",
      "1 rows\n",
      "1 rows\n",
      "Demon is checking...\n",
      "1 rows\n",
      "Demon is going to sleep 0.16666666666666666 minutes before next check.\n",
      "1 rows\n",
      "1 rows\n",
      "Demon is checking...\n",
      "1 rows\n",
      "Demon is going to sleep 0.16666666666666666 minutes before next check.\n",
      "1 rows\n",
      "1 rows\n"
     ]
    },
    {
     "ename": "KeyboardInterrupt",
     "evalue": "",
     "output_type": "error",
     "traceback": [
      "\u001b[0;31m---------------------------------------------------------------------------\u001b[0m",
      "\u001b[0;31mKeyboardInterrupt\u001b[0m                         Traceback (most recent call last)",
      "\u001b[0;32m<ipython-input-9-1ba7ca0bef03>\u001b[0m in \u001b[0;36m<module>\u001b[0;34m()\u001b[0m\n\u001b[1;32m      1\u001b[0m \u001b[0mlogger\u001b[0m\u001b[0;34m=\u001b[0m\u001b[0mstart\u001b[0m\u001b[0;34m(\u001b[0m\u001b[0;34m)\u001b[0m\u001b[0;34m\u001b[0m\u001b[0m\n\u001b[1;32m      2\u001b[0m \u001b[0mdaemon\u001b[0m\u001b[0;34m=\u001b[0m\u001b[0mstart_daemon\u001b[0m\u001b[0;34m(\u001b[0m\u001b[0;34m)\u001b[0m\u001b[0;34m\u001b[0m\u001b[0m\n\u001b[0;32m----> 3\u001b[0;31m \u001b[0mlogger\u001b[0m\u001b[0;34m.\u001b[0m\u001b[0mjoin\u001b[0m\u001b[0;34m(\u001b[0m\u001b[0;34m)\u001b[0m\u001b[0;34m\u001b[0m\u001b[0m\n\u001b[0m\u001b[1;32m      4\u001b[0m \u001b[0mdaemon\u001b[0m\u001b[0;34m.\u001b[0m\u001b[0mjoin\u001b[0m\u001b[0;34m(\u001b[0m\u001b[0;34m)\u001b[0m\u001b[0;34m\u001b[0m\u001b[0m\n",
      "\u001b[0;32m/usr/lib/python3.5/threading.py\u001b[0m in \u001b[0;36mjoin\u001b[0;34m(self, timeout)\u001b[0m\n\u001b[1;32m   1052\u001b[0m \u001b[0;34m\u001b[0m\u001b[0m\n\u001b[1;32m   1053\u001b[0m         \u001b[0;32mif\u001b[0m \u001b[0mtimeout\u001b[0m \u001b[0;32mis\u001b[0m \u001b[0;32mNone\u001b[0m\u001b[0;34m:\u001b[0m\u001b[0;34m\u001b[0m\u001b[0m\n\u001b[0;32m-> 1054\u001b[0;31m             \u001b[0mself\u001b[0m\u001b[0;34m.\u001b[0m\u001b[0m_wait_for_tstate_lock\u001b[0m\u001b[0;34m(\u001b[0m\u001b[0;34m)\u001b[0m\u001b[0;34m\u001b[0m\u001b[0m\n\u001b[0m\u001b[1;32m   1055\u001b[0m         \u001b[0;32melse\u001b[0m\u001b[0;34m:\u001b[0m\u001b[0;34m\u001b[0m\u001b[0m\n\u001b[1;32m   1056\u001b[0m             \u001b[0;31m# the behavior of a negative timeout isn't documented, but\u001b[0m\u001b[0;34m\u001b[0m\u001b[0;34m\u001b[0m\u001b[0m\n",
      "\u001b[0;32m/usr/lib/python3.5/threading.py\u001b[0m in \u001b[0;36m_wait_for_tstate_lock\u001b[0;34m(self, block, timeout)\u001b[0m\n\u001b[1;32m   1068\u001b[0m         \u001b[0;32mif\u001b[0m \u001b[0mlock\u001b[0m \u001b[0;32mis\u001b[0m \u001b[0;32mNone\u001b[0m\u001b[0;34m:\u001b[0m  \u001b[0;31m# already determined that the C code is done\u001b[0m\u001b[0;34m\u001b[0m\u001b[0m\n\u001b[1;32m   1069\u001b[0m             \u001b[0;32massert\u001b[0m \u001b[0mself\u001b[0m\u001b[0;34m.\u001b[0m\u001b[0m_is_stopped\u001b[0m\u001b[0;34m\u001b[0m\u001b[0m\n\u001b[0;32m-> 1070\u001b[0;31m         \u001b[0;32melif\u001b[0m \u001b[0mlock\u001b[0m\u001b[0;34m.\u001b[0m\u001b[0macquire\u001b[0m\u001b[0;34m(\u001b[0m\u001b[0mblock\u001b[0m\u001b[0;34m,\u001b[0m \u001b[0mtimeout\u001b[0m\u001b[0;34m)\u001b[0m\u001b[0;34m:\u001b[0m\u001b[0;34m\u001b[0m\u001b[0m\n\u001b[0m\u001b[1;32m   1071\u001b[0m             \u001b[0mlock\u001b[0m\u001b[0;34m.\u001b[0m\u001b[0mrelease\u001b[0m\u001b[0;34m(\u001b[0m\u001b[0;34m)\u001b[0m\u001b[0;34m\u001b[0m\u001b[0m\n\u001b[1;32m   1072\u001b[0m             \u001b[0mself\u001b[0m\u001b[0;34m.\u001b[0m\u001b[0m_stop\u001b[0m\u001b[0;34m(\u001b[0m\u001b[0;34m)\u001b[0m\u001b[0;34m\u001b[0m\u001b[0m\n",
      "\u001b[0;31mKeyboardInterrupt\u001b[0m: "
     ]
    }
   ],
   "source": [
    "def start(dug=False):\n",
    "    global logger,daemon,DEBUG\n",
    "    DEBUG=dug\n",
    "    logger=start_logger()\n",
    "    daemon=start_daemon()\n",
    "#logger.join()\n",
    "#daemon.join()"
   ]
  },
  {
   "cell_type": "code",
   "execution_count": null,
   "metadata": {
    "collapsed": true
   },
   "outputs": [],
   "source": [
    "start(False)"
   ]
  }
 ],
 "metadata": {
  "kernelspec": {
   "display_name": "Python 3",
   "language": "python",
   "name": "python3"
  },
  "language_info": {
   "codemirror_mode": {
    "name": "ipython",
    "version": 3
   },
   "file_extension": ".py",
   "mimetype": "text/x-python",
   "name": "python",
   "nbconvert_exporter": "python",
   "pygments_lexer": "ipython3",
   "version": "3.5.2"
  }
 },
 "nbformat": 4,
 "nbformat_minor": 2
}
