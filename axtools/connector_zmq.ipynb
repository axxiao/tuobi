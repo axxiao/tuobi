{
 "cells": [
  {
   "cell_type": "code",
   "execution_count": null,
   "metadata": {
    "collapsed": true
   },
   "outputs": [],
   "source": [
    "\"\"\"\n",
    "The connector for ZeroMQ\n",
    "This is the connector which will be the core message queue within the same machine\n",
    "\n",
    "__author__ = \"Alex Xiao <http://www.alexxiao.me/>\"\n",
    "__date__ = \"2017-04-22\"\n",
    "__version__ = \"0.2\"\n",
    "\n",
    "    Version:\n",
    "        0.1 : implemented zeroMQ publish/ subscribe & server/client mode\n",
    "        0.2 : added device for publish/ subscribe mode\n",
    "        \n",
    "\"\"\"\n"
   ]
  },
  {
   "cell_type": "code",
   "execution_count": 2,
   "metadata": {
    "collapsed": true,
    "scrolled": true
   },
   "outputs": [],
   "source": [
    "import zmq\n",
    "import sys\n",
    "import time\n",
    "from threading import Thread"
   ]
  },
  {
   "cell_type": "code",
   "execution_count": 3,
   "metadata": {
    "code_folding": [
     3
    ],
    "collapsed": true,
    "scrolled": true
   },
   "outputs": [],
   "source": [
    "'''\n",
    "    The device whcih exchanges messages between pub/sub\n",
    "'''\n",
    "class exchange_device(Thread):\n",
    "    '''\n",
    "        The device whcih exchanges messages between pub/sub\n",
    "    '''\n",
    "    def __init__(self,name='Exchanger',port_pub=12116,port_sub=12117,debug=False):\n",
    "        Thread.__init__(self)\n",
    "        self.name=name\n",
    "        self.port_pub=port_pub\n",
    "        self.port_sub=port_sub\n",
    "        self.socket=None\n",
    "        self.context=None\n",
    "        self.debug=debug\n",
    "        self.running=False\n",
    "            \n",
    "    def run(self):\n",
    "        #try:\n",
    "        context = zmq.Context()        \n",
    "        # Socket facing clients\n",
    "        if self.debug: print('Got context')\n",
    "        frontend = context.socket(zmq.SUB)\n",
    "        addr=\"tcp://*:\"+str(self.port_pub)\n",
    "        if self.debug: print('Tring to bind PUB at '+addr)\n",
    "        frontend.bind(addr)\n",
    "\n",
    "        frontend.setsockopt(zmq.SUBSCRIBE, b\"\")\n",
    "        if self.debug: print('Waiting for PUB at '+addr)\n",
    "        # Socket facing services\n",
    "        backend = context.socket(zmq.PUB)\n",
    "        if self.debug: print('Tring to bind SUB at '+addr)\n",
    "        addr=\"tcp://*:\"+str(self.port_sub)\n",
    "        backend.bind(addr)\n",
    "        if self.debug: print('Waiting for SUB at '+addr)\n",
    "        try:\n",
    "            self.running=True\n",
    "            print(self.name+\" is ONLINE\")\n",
    "            zmq.device(zmq.FORWARDER, frontend, backend)\n",
    "        except Exception as e:\n",
    "            print(self.name+\" is having issues\")\n",
    "            print(e)\n",
    "        finally:    \n",
    "        #    pass\n",
    "            print(self.name+\" is OFFLINE\")\n",
    "            self.running=False\n",
    "            frontend.close()\n",
    "            backend.close()\n",
    "            context.term()\n",
    "        \n"
   ]
  },
  {
   "cell_type": "code",
   "execution_count": 7,
   "metadata": {
    "code_folding": [
     0
    ],
    "collapsed": true
   },
   "outputs": [],
   "source": [
    "class publisher():\n",
    "    \n",
    "    def __init__(self,host='tcp://127.0.0.1',port=12116,mode='device',debug=False):\n",
    "        \"\"\"\n",
    "          The publisher\n",
    "          \n",
    "            Parameters:\n",
    "                port: the port publisher/device is on\n",
    "                mode: default to 'device' whcih use intermediary device \n",
    "                        otherwise bind to port\n",
    "        \"\"\"\n",
    "        self.host=host\n",
    "        self.port=port\n",
    "        self.mode=mode\n",
    "        self.socket=None\n",
    "        self.context=None\n",
    "        self.debug=debug\n",
    "        self.connect()\n",
    "        \n",
    "    def connect(self):\n",
    "        self.context = zmq.Context()\n",
    "        self.socket = self.context.socket(zmq.PUB)\n",
    "        local_addr=self.host+':'+str(self.port)\n",
    "        if self.mode=='device':\n",
    "            self.socket.connect(local_addr)\n",
    "        else:\n",
    "            self.socket.bind(local_addr)\n",
    "        \n",
    "    def disconnect(self):\n",
    "        self.socket.close()\n",
    "        \n",
    "        \n",
    "    def send_string(self,topic,msg):\n",
    "        if self.debug: print ('DEBUG: Publishing [',topic,'] ', msg)\n",
    "        self.socket.send_string(\"%s %s\" % (topic, msg))\n"
   ]
  },
  {
   "cell_type": "code",
   "execution_count": 8,
   "metadata": {
    "code_folding": [],
    "collapsed": true
   },
   "outputs": [],
   "source": [
    "class subscriber():\n",
    "    \n",
    "    def __init__(self,topic,host='tcp://127.0.0.1',port=12117,debug=False,code='UTF-8'):\n",
    "        \"\"\"\n",
    "          The subscriber\n",
    "          \n",
    "            Parameters:\n",
    "                port: the port publisher is on\n",
    "        \"\"\"\n",
    "        self.CODE=code\n",
    "        self.port=port\n",
    "        self.topic=topic\n",
    "        self.socket=None\n",
    "        self.context=None\n",
    "        self.DEBUG=debug\n",
    "        self.host=host\n",
    "        self.connect()\n",
    "        \n",
    "    def connect(self):\n",
    "        self.context = zmq.Context()\n",
    "        self.socket = self.context.socket(zmq.SUB)\n",
    "        local_addr=self.host+':'+str(self.port)\n",
    "        self.socket.connect (local_addr)\n",
    "        topicfilter = self.topic.encode(self.CODE)\n",
    "        self.socket.setsockopt(zmq.SUBSCRIBE, topicfilter)\n",
    "        \n",
    "    def disconnect(self):\n",
    "        self.socket.close()\n",
    "        \n",
    "    def receive_string(self):\n",
    "        string = self.socket.recv().decode(self.CODE)\n",
    "        if self.DEBUG: \n",
    "            print ('DEBUG: Received raw message:',string)\n",
    "        topic, messagedata = string.split(' ',1)\n",
    "        if self.DEBUG: \n",
    "            print ('DEBUG: Received [',topic,'] ', messagedata)\n",
    "        return messagedata\n"
   ]
  },
  {
   "cell_type": "code",
   "execution_count": null,
   "metadata": {
    "code_folding": [
     0
    ],
    "collapsed": true
   },
   "outputs": [],
   "source": [
    "class pusher():\n",
    "     def __init__(self,host='tcp://127.0.0.1',port=12120,debug=False):\n",
    "        \"\"\"\n",
    "          The publisher\n",
    "          \n",
    "            Parameters:\n",
    "                port: the port publisher/device is on\n",
    "                mode: default to 'device' whcih use intermediary device \n",
    "                        otherwise bind to port\n",
    "        \"\"\"\n",
    "        self.host=host\n",
    "        self.port=port\n",
    "        self.mode=mode\n",
    "        self.socket=None\n",
    "        self.context=None\n",
    "        self.debug=debug\n",
    "        self.connect()\n",
    "        \n",
    "    def connect(self):\n",
    "        self.context = zmq.Context()\n",
    "        self.socket = self.context.socket(zmq.PUSH)\n",
    "        local_addr=self.host+':'+str(self.port)\n",
    "        self.socket.bind(local_addr)\n",
    "        \n",
    "    def disconnect(self):\n",
    "        self.socket.close()\n",
    "        \n",
    "        \n",
    "    def send_string(self,topic,msg):\n",
    "        if self.debug: print ('DEBUG: Publishing [',topic,'] ', msg)\n",
    "        self.socket.send_string(\"%s %s\" % (topic, msg))\n",
    "\n",
    "    "
   ]
  },
  {
   "cell_type": "code",
   "execution_count": null,
   "metadata": {
    "code_folding": [
     0
    ],
    "collapsed": true
   },
   "outputs": [],
   "source": [
    "class puller():\n",
    "    \n",
    "    def __init__(self,host='tcp://127.0.0.1',port=12117,debug=False,code='UTF-8'):\n",
    "        \"\"\"\n",
    "          The subscriber\n",
    "          \n",
    "            Parameters:\n",
    "                port: the port publisher is on\n",
    "        \"\"\"\n",
    "        self.CODE=code\n",
    "        self.port=port\n",
    "        self.socket=None\n",
    "        self.context=None\n",
    "        self.DEBUG=debug\n",
    "        self.host=host\n",
    "        self.connect()\n",
    "        \n",
    "    def connect(self):\n",
    "        self.context = zmq.Context()\n",
    "        self.socket = self.context.socket(zmq.PULL)\n",
    "        local_addr=self.host+':'+str(self.port)\n",
    "        self.socket.connect (local_addr)\n",
    "        \n",
    "    def disconnect(self):\n",
    "        self.socket.close()\n",
    "        \n",
    "    def receive_string(self):\n",
    "        string = self.socket.recv().decode(self.CODE)\n",
    "        return string\n"
   ]
  },
  {
   "cell_type": "code",
   "execution_count": null,
   "metadata": {
    "collapsed": true
   },
   "outputs": [],
   "source": []
  },
  {
   "cell_type": "code",
   "execution_count": null,
   "metadata": {
    "collapsed": true
   },
   "outputs": [],
   "source": []
  }
 ],
 "metadata": {
  "kernelspec": {
   "display_name": "Python 3",
   "language": "python",
   "name": "python3"
  },
  "language_info": {
   "codemirror_mode": {
    "name": "ipython",
    "version": 3
   },
   "file_extension": ".py",
   "mimetype": "text/x-python",
   "name": "python",
   "nbconvert_exporter": "python",
   "pygments_lexer": "ipython3",
   "version": "3.5.2"
  },
  "varInspector": {
   "cols": {
    "lenName": 16,
    "lenType": 16,
    "lenVar": 40
   },
   "kernels_config": {
    "python": {
     "delete_cmd_postfix": "",
     "delete_cmd_prefix": "del ",
     "library": "var_list.py",
     "varRefreshCmd": "print(var_dic_list())"
    },
    "r": {
     "delete_cmd_postfix": ") ",
     "delete_cmd_prefix": "rm(",
     "library": "var_list.r",
     "varRefreshCmd": "cat(var_dic_list()) "
    }
   },
   "types_to_exclude": [
    "module",
    "function",
    "builtin_function_or_method",
    "instance",
    "_Feature"
   ],
   "window_display": false
  }
 },
 "nbformat": 4,
 "nbformat_minor": 2
}
