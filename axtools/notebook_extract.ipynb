{
 "cells": [
  {
   "cell_type": "code",
   "execution_count": null,
   "metadata": {
    "collapsed": true
   },
   "outputs": [],
   "source": [
    "\"\"\"\n",
    "The tools to convert jupyter notebook .ipynb to standard .py files\n",
    "\n",
    "__author__ = \"Alex Xiao <http://www.alexxiao.me/>\"\n",
    "__date__ = \"2017-02-08\"\n",
    "__version__ = \"0.5\"\n",
    "\n",
    "\"\"\""
   ]
  },
  {
   "cell_type": "code",
   "execution_count": 2,
   "metadata": {
    "collapsed": false
   },
   "outputs": [],
   "source": [
    "import io, os, sys, types,getopt"
   ]
  },
  {
   "cell_type": "code",
   "execution_count": 3,
   "metadata": {
    "collapsed": false
   },
   "outputs": [],
   "source": [
    "import IPython\n",
    "from IPython.core.interactiveshell import InteractiveShell\n"
   ]
  },
  {
   "cell_type": "code",
   "execution_count": 4,
   "metadata": {
    "collapsed": true
   },
   "outputs": [],
   "source": [
    "from nbformat import read\n",
    "\"\"\"\n",
    "The flag to control if to output the info\n",
    "\"\"\"\n",
    "OUT_FLAG=True"
   ]
  },
  {
   "cell_type": "code",
   "execution_count": 10,
   "metadata": {
    "collapsed": false
   },
   "outputs": [],
   "source": [
    "class JupyterNotebookExtract(object):\n",
    "    \"\"\"\n",
    "    The class of extractor \n",
    "    \n",
    "    \"\"\"\n",
    "    def __init__(self):\n",
    "        self.shell=InteractiveShell.instance()\n",
    "        jupyter=IPython.get_ipython()\n",
    "        self.base_dir=str(jupyter.home_dir)\n",
    "        if(OUT_FLAG):\n",
    "            print('Jupyter Notebook Base Dir:',self.base_dir)\n",
    "    \n",
    "    def extract(self,input_filename,output_filename='',inlcude_all=False):\n",
    "        \"\"\"\n",
    "            Convert .ipynb file to .py\n",
    "            \n",
    "            input_filename: the input file name (with path, if not absolute, will use jupyter notebook base folder as root)\n",
    "            output_filename: [Optional] if not set default to same name as inputfile\n",
    "            inlcude_all: [Optional: default to False] if include none-code sections as comments\n",
    "    \n",
    "            Please adjust OUT_FLAG of the package to control if ouput processing info    \n",
    "        \"\"\"\n",
    "        if(OUT_FLAG):\n",
    "            print('Extract Raw Input file:',input_filename)\n",
    "            print('Extract Raw Output file:',output_filename)\n",
    "        input_filename_s=input_filename.strip()\n",
    "        output_filename_s=output_filename.strip()\n",
    "        \n",
    "        if input_filename_s[-6:].lower()!='.ipynb':\n",
    "            #remove the .ipynb extension\n",
    "            input_filename_s=input_filename_s+'.ipynb'\n",
    "            \n",
    "        if output_filename_s=='' or output_filename_s==None:\n",
    "            output_filename_s=input_filename_s[:-6]+'.py'\n",
    "        if output_filename_s[-3:].lower()!='.py':\n",
    "            #remove the .ipynb extension\n",
    "            output_filename_s=output_filename_s+'.py'\n",
    "        \n",
    "        if os.path.isabs(input_filename):\n",
    "            #if absoult path\n",
    "            inputfile=input_filename_s\n",
    "        else:\n",
    "            inputfile=os.path.join(self.base_dir, input_filename_s)\n",
    "            \n",
    "        if os.path.isabs(output_filename_s):\n",
    "            #if absoult path\n",
    "            outfile=output_filename_s\n",
    "        else:\n",
    "            outfile=os.path.join(self.base_dir, output_filename_s)\n",
    "        \n",
    "                    \n",
    "        if(OUT_FLAG):\n",
    "            print('Extract Input file:',inputfile)\n",
    "            print('Extract Output file:',outfile)\n",
    "        with io.open(inputfile, 'r', encoding='utf-8') as f:\n",
    "            nb = read(f, 4)\n",
    "        with open(outfile,'w') as out:\n",
    "            for cell in nb.cells:\n",
    "                code = self.shell.input_transformer_manager.transform_cell(cell.source) \n",
    "                if cell.cell_type != 'code' and inlcude_all:\n",
    "                    code='#'+code.replace('\\n','\\n#')\n",
    "                out.write(code)\n",
    "        if(OUT_FLAG):\n",
    "            print('Done extracted to',outfile)\n",
    "        \n",
    "    "
   ]
  },
  {
   "cell_type": "code",
   "execution_count": 8,
   "metadata": {
    "collapsed": false
   },
   "outputs": [],
   "source": [
    "#JupyterNotebookExtract().extract('axtools/import_from_file')"
   ]
  },
  {
   "cell_type": "code",
   "execution_count": 12,
   "metadata": {
    "collapsed": false,
    "scrolled": true
   },
   "outputs": [
    {
     "name": "stdout",
     "output_type": "stream",
     "text": [
      "Jupyter Notebook Base Dir: /data/tuobi\n",
      "Extract Raw Input file: axtools/notebook_extract\n",
      "Extract Raw Output file: \n",
      "Extract Input file: /data/tuobi/axtools/notebook_extract.ipynb\n",
      "Extract Output file: /data/tuobi/axtools/notebook_extract.py\n",
      "Done extracted to /data/tuobi/axtools/notebook_extract.py\n"
     ]
    }
   ],
   "source": [
    "#JupyterNotebookExtract().extract('axtools/notebook_extract')\n",
    "#JupyterNotebookExtract().extract('/data/tuobi/Server/notebook_extract.ipynb',filename,True)"
   ]
  },
  {
   "cell_type": "code",
   "execution_count": 15,
   "metadata": {
    "collapsed": false
   },
   "outputs": [
    {
     "name": "stdout",
     "output_type": "stream",
     "text": [
      "Please use command: \n",
      "\t python3 notebook_extract.py -i <inputfile> [-o <outputfile>]\n",
      " you can either give the relative filename (from home of Jupyter Notebook WITHOUT extensions) or you can specify the absoult path WITH extension\n"
     ]
    },
    {
     "ename": "SystemExit",
     "evalue": "2",
     "output_type": "error",
     "traceback": [
      "An exception has occurred, use %tb to see the full traceback.\n",
      "\u001b[0;31mSystemExit\u001b[0m\u001b[0;31m:\u001b[0m 2\n"
     ]
    },
    {
     "name": "stderr",
     "output_type": "stream",
     "text": [
      "/usr/local/lib/python3.5/dist-packages/IPython/core/interactiveshell.py:2889: UserWarning: To exit: use 'exit', 'quit', or Ctrl-D.\n",
      "  warn(\"To exit: use 'exit', 'quit', or Ctrl-D.\", stacklevel=1)\n"
     ]
    }
   ],
   "source": [
    "def main(argv):\n",
    "    filename='Server/main_web_app'\n",
    "    helpline='Please use command: \\n\\t python3 notebook_extract.py -i <inputfile> [-o <outputfile>]'\n",
    "    helpline+='\\n you can either give the relative filename (from home of Jupyter Notebook WITHOUT extensions) or '\n",
    "    helpline+='you can specify the absoult path WITH extension' \n",
    "    inputfile = ''\n",
    "    outputfile = ''\n",
    "    try:\n",
    "        opts, args = getopt.getopt(argv,\"hi:o:\",[\"inputfile=\",\"outputfile=\"])\n",
    "    except getopt.GetoptError:\n",
    "        print (helpline)\n",
    "        sys.exit(2)\n",
    "    for opt, arg in opts:\n",
    "        if opt == '-h':\n",
    "            print(helpline)\n",
    "            sys.exit()\n",
    "        elif opt in (\"-i\", \"--inputfile\"):\n",
    "            inputfile = arg\n",
    "        elif opt in (\"-o\", \"--outputfile\"):\n",
    "            outputfile = arg\n",
    "    JupyterNotebookExtract().extract(inputfile,outputfile,True)\n",
    "        \n",
    "if __name__ == \"__main__\":\n",
    "    main(sys.argv[1:])\n",
    "    "
   ]
  },
  {
   "cell_type": "code",
   "execution_count": null,
   "metadata": {
    "collapsed": true
   },
   "outputs": [],
   "source": []
  }
 ],
 "metadata": {
  "kernelspec": {
   "display_name": "Python 3",
   "language": "python",
   "name": "python3"
  },
  "language_info": {
   "codemirror_mode": {
    "name": "ipython",
    "version": 3
   },
   "file_extension": ".py",
   "mimetype": "text/x-python",
   "name": "python",
   "nbconvert_exporter": "python",
   "pygments_lexer": "ipython3",
   "version": "3.5.2"
  }
 },
 "nbformat": 4,
 "nbformat_minor": 2
}
