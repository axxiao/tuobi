{
 "cells": [
  {
   "cell_type": "code",
   "execution_count": null,
   "metadata": {
    "collapsed": true
   },
   "outputs": [],
   "source": [
    "\"\"\"\n",
    "The common tools\n",
    "\"\"\""
   ]
  },
  {
   "cell_type": "code",
   "execution_count": null,
   "metadata": {
    "collapsed": true
   },
   "outputs": [],
   "source": [
    "import re\n",
    "def mysearch(orig_str,begin,end=None,strip=False):\n",
    "    \"\"\"\n",
    "    The generator function to return all information that in between start/end key words\n",
    "    \n",
    "    Input:\n",
    "        orig_str: the string to be searched\n",
    "        begin: the keyword for begining (exclusive)\n",
    "        end [Optional]: the keyword for the end (exclusive), if not defined, get all the info before next begin\n",
    "        strip [Optional]: default to False, which will not strip info if empty\n",
    "    \n",
    "    Output:\n",
    "        List of all result (yield)\n",
    "    \"\"\"\n",
    "    first=orig_str.find(begin)\n",
    "    for patt in orig_str[first:].split(begin):\n",
    "        if strip:\n",
    "            patt=patt.strip()\n",
    "        if end==None:\n",
    "            if len(patt)>0:\n",
    "                yield patt\n",
    "        else:\n",
    "            end_pos=patt.find(end)\n",
    "            if end_pos>0 or (strip==False and end_pos==0):\n",
    "                yield patt[:end_pos]"
   ]
  },
  {
   "cell_type": "code",
   "execution_count": 4,
   "metadata": {
    "collapsed": false
   },
   "outputs": [],
   "source": [
    "def nvl_dict(in_dict,key_name,default):\n",
    "    \"\"\"\n",
    "    Try to get a value from dict, if not return the default value\n",
    "    \n",
    "    input:\n",
    "        in_dict: the dict to be looked up\n",
    "        name: the name of item\n",
    "        default: default value\n",
    "    \"\"\"\n",
    "    rtn=default\n",
    "    if key_name in in_dict:\n",
    "        rtn=in_dict[key_name]\n",
    "    return rtn"
   ]
  },
  {
   "cell_type": "code",
   "execution_count": 31,
   "metadata": {
    "collapsed": true
   },
   "outputs": [],
   "source": [
    "def get_name(obj):\n",
    "    if hasattr(obj,'name'):\n",
    "        nm=obj.name\n",
    "    else:\n",
    "        nm=str(obj)\n",
    "    return nm\n",
    "\n",
    "def valid_functions(obj,methods,raise_error_flag=True):\n",
    "    \"\"\"\n",
    "    To valid if object has method as a function\n",
    "    Inputs:\n",
    "        obj: the object\n",
    "        methods: the list of functions to check\n",
    "        raise_error_flag: [default to True], if True, raise ValueError if not found the function\n",
    "    Output:\n",
    "        return the result True/ False\n",
    "    \n",
    "    \"\"\"\n",
    "    #'status' in dir(services[service_name])\n",
    "    lkp=dir(obj)\n",
    "    rtn=False\n",
    "    missed_list=set(methods)-set(lkp)\n",
    "    if len(missed_list)>0:\n",
    "        err_msg='Object '+get_name(obj)+'['+str(type(obj))+'] does not have expected function '+str(missed_list)\n",
    "    else:\n",
    "        rtn=True\n",
    "        invlid_list=[]\n",
    "        for mth in methods:\n",
    "            if not callable(getattr(obj,mth)):\n",
    "                #find a not callable\n",
    "                rtn=False\n",
    "                invlid_list.append(mth)\n",
    "        err_msg='Object '+get_name(obj)+'['+str(type(obj))+'] has attribute '+str(invlid_list)+' NOT callable!'\n",
    "        #if all are included\n",
    "        \n",
    "    \n",
    "    if rtn==False and raise_error_flag:\n",
    "        #Raise error\n",
    "        raise ValueError(err_msg)\n",
    "    return rtn"
   ]
  },
  {
   "cell_type": "code",
   "execution_count": 30,
   "metadata": {
    "collapsed": false
   },
   "outputs": [],
   "source": [
    "def valid_function(obj,method,raise_error_flag=True):\n",
    "    \"\"\"\n",
    "    To valid if object has method as a function\n",
    "    Inputs:\n",
    "        obj: the object\n",
    "        method: the function to check\n",
    "        raise_error_flag: [default to True], if True, raise ValueError if not found the function\n",
    "    Output:\n",
    "        return the result True/ False\n",
    "    \n",
    "    \"\"\"\n",
    "    #'status' in dir(services[service_name])\n",
    "    rtn=hasattr(obj,method) and callable(getattr(obj,method))\n",
    "    if rtn==False and raise_error_flag:\n",
    "        #Raise error\n",
    "        raise ValueError('Object '+get_name(obj)+'['+str(type(obj))+'] does not have expected function '+method)\n",
    "    return rtn"
   ]
  }
 ],
 "metadata": {
  "kernelspec": {
   "display_name": "Python 3",
   "language": "python",
   "name": "python3"
  },
  "language_info": {
   "codemirror_mode": {
    "name": "ipython",
    "version": 3
   },
   "file_extension": ".py",
   "mimetype": "text/x-python",
   "name": "python",
   "nbconvert_exporter": "python",
   "pygments_lexer": "ipython3",
   "version": "3.5.2"
  }
 },
 "nbformat": 4,
 "nbformat_minor": 2
}
