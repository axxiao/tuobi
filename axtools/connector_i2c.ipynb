{
 "cells": [
  {
   "cell_type": "code",
   "execution_count": 1,
   "metadata": {
    "collapsed": true
   },
   "outputs": [],
   "source": [
    "\"\"\"\n",
    "The connector for i2c\n",
    "__author__ = \"Alex Xiao <http://www.alexxiao.me/>\"\n",
    "__date__ = \"2017-04-22\"\n",
    "__version__ = \"0.5\"\n",
    "\n",
    "\"\"\"\n",
    "import smbus"
   ]
  },
  {
   "cell_type": "code",
   "execution_count": 37,
   "metadata": {
    "collapsed": true
   },
   "outputs": [],
   "source": [
    "class connector_i2c():\n",
    "    '''\n",
    "        The standard I2c connector implementation\n",
    "    '''\n",
    "    def __init__(self,bus_num):\n",
    "        '''\n",
    "            bus_num: i2c bus number, start from 0\n",
    "        '''\n",
    "        self.bus_num=bus_num\n",
    "        self.bus=smbus.SMBus(bus_num)\n",
    "    \n",
    "    def send(self,addr,instr,reg=0x00,mode='string'):\n",
    "        '''\n",
    "            send string command to address\n",
    "            \n",
    "            addr: the address\n",
    "            in_str: the string to be sent\n",
    "        '''\n",
    "        if mode=='string':\n",
    "            for ec in instr.encode(encoding='UTF-8'):\n",
    "                self.bus.write_byte_data(addr,reg,ec)\n",
    "        else:\n",
    "            self.bus.write_byte_data(addr,reg,instr)\n",
    "    \n",
    "    def read_bytes(self,addr,length,offset=0):\n",
    "        return self.bus.read_i2c_block_data(addr,offset, length)\n",
    "    \n",
    "    def receive(self,addr):\n",
    "        '''\n",
    "            Receive string from address\n",
    "            \n",
    "            * if no new incoming message, it will repeat the last received!\n",
    "        '''\n",
    "        recv=self.bus.read_i2c_block_data(addr, 0);\n",
    "        rtn=''\n",
    "        for ec in recv:\n",
    "            if ec<255:\n",
    "                rtn+=chr(ec)\n",
    "        return rtn"
   ]
  },
  {
   "cell_type": "code",
   "execution_count": 103,
   "metadata": {
    "collapsed": true
   },
   "outputs": [],
   "source": [
    "class tuobi_i2c():\n",
    "    '''\n",
    "        The I2c connector implementation for tuobi\n",
    "    '''\n",
    "    def __init__(self,i2c_bus_num):\n",
    "        self.i2c_bus_num=i2c_bus_num\n",
    "        self.i2c=connector_i2c(i2c_bus_num)\n",
    "        self.last_ts=dict()\n",
    "    \n",
    "    def send(self,addr,instr,reg=0x00):\n",
    "        '''\n",
    "            send string command to address\n",
    "            \n",
    "            addr: the address\n",
    "            in_str: the string to be sent\n",
    "        '''\n",
    "        if instr[-1]!=';': instr=instr+';'\n",
    "        self.i2c.send(addr,instr,reg)\n",
    "    \n",
    "    def get(self,addr):\n",
    "        '''\n",
    "            Receive the string from address\n",
    "            \n",
    "            return: cmd, data\n",
    "            \n",
    "            Note: different from standard i2c interface, it will NOT repeat the last one\n",
    "        '''\n",
    "        if addr not in self.last_ts: self.last_ts[addr]=-1\n",
    "        recv=self.i2c.receive(addr)\n",
    "        rtn=None,None\n",
    "        if recv[-1]==';':\n",
    "            cmd,data,ts=recv[:-1].split(':')\n",
    "            if self.last_ts[addr]<int(ts):\n",
    "                #if newly received\n",
    "                rtn=cmd,data\n",
    "                self.last_ts[addr]=int(ts)\n",
    "        return rtn"
   ]
  },
  {
   "cell_type": "markdown",
   "metadata": {},
   "source": [
    "t=tuobi_body(0)"
   ]
  },
  {
   "cell_type": "markdown",
   "metadata": {},
   "source": [
    "t.send(0x05,'FO;')\n",
    "t.get(0x05)"
   ]
  },
  {
   "cell_type": "markdown",
   "metadata": {},
   "source": [
    "i2c=connector_i2c(0)"
   ]
  },
  {
   "cell_type": "markdown",
   "metadata": {
    "collapsed": true
   },
   "source": [
    "address=0x05\n",
    "i2c.send(address,'SC;')\n",
    "i2c.receive(address)"
   ]
  }
 ],
 "metadata": {
  "kernelspec": {
   "display_name": "Python 3",
   "language": "python",
   "name": "python3"
  },
  "language_info": {
   "codemirror_mode": {
    "name": "ipython",
    "version": 3
   },
   "file_extension": ".py",
   "mimetype": "text/x-python",
   "name": "python",
   "nbconvert_exporter": "python",
   "pygments_lexer": "ipython3",
   "version": "3.5.2"
  }
 },
 "nbformat": 4,
 "nbformat_minor": 2
}
