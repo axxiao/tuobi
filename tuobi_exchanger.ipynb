{
 "cells": [
  {
   "cell_type": "code",
   "execution_count": 1,
   "metadata": {
    "scrolled": true
   },
   "outputs": [
    {
     "name": "stdout",
     "output_type": "stream",
     "text": [
      "working in  /home/alex/workspace/tuobi/axtools\n"
     ]
    }
   ],
   "source": [
    "import axtools.start as start_point\n",
    "load_ax_module=start_point.load_ax_module"
   ]
  },
  {
   "cell_type": "code",
   "execution_count": 2,
   "metadata": {
    "scrolled": false
   },
   "outputs": [
    {
     "name": "stdout",
     "output_type": "stream",
     "text": [
      "Loading /home/alex/workspace/tuobi/axtools/connector_zmq.py\n"
     ]
    }
   ],
   "source": [
    "myzmq=load_ax_module('connector_zmq')"
   ]
  },
  {
   "cell_type": "code",
   "execution_count": null,
   "metadata": {
    "collapsed": true
   },
   "outputs": [],
   "source": [
    "from threading import Thread"
   ]
  },
  {
   "cell_type": "code",
   "execution_count": 3,
   "metadata": {
    "collapsed": true,
    "scrolled": true
   },
   "outputs": [],
   "source": [
    "exchanger=myzmq.exchange_device('exchanger',debug=True) \n",
    "#exchanger.start()"
   ]
  },
  {
   "cell_type": "code",
   "execution_count": 10,
   "metadata": {
    "collapsed": true
   },
   "outputs": [],
   "source": [
    "temp_file='/tmp/tuobi_exchanger.heartbeat'\n",
    "sleep_interval=5"
   ]
  },
  {
   "cell_type": "code",
   "execution_count": 5,
   "metadata": {
    "scrolled": true
   },
   "outputs": [
    {
     "name": "stdout",
     "output_type": "stream",
     "text": [
      "Got context\n",
      "Tring to bind PUB at tcp://*:12116\n",
      "Waiting for PUB at tcp://*:12116\n",
      "Tring to bind SUB at tcp://*:12116\n",
      "Waiting for SUB at tcp://*:12117\n",
      "exchanger is ONLINE\n"
     ]
    }
   ],
   "source": [
    "exchanger.start()"
   ]
  },
  {
   "cell_type": "code",
   "execution_count": 6,
   "metadata": {
    "collapsed": true
   },
   "outputs": [],
   "source": [
    "import time,datetime"
   ]
  },
  {
   "cell_type": "code",
   "execution_count": 7,
   "metadata": {
    "collapsed": true
   },
   "outputs": [],
   "source": [
    "#!sudo mount -t tmpfs -o size=10M,mode=0755 tmpfs /var/cache/tuobi"
   ]
  },
  {
   "cell_type": "code",
   "execution_count": 8,
   "metadata": {
    "code_folding": [
     2,
     8
    ],
    "collapsed": true
   },
   "outputs": [],
   "source": [
    "#Start heart beat\n",
    "#\n",
    "def heartbeat():\n",
    "    f=open(temp_file,'w')\n",
    "    f.write(datetime.datetime.now().strftime('%Y-%m-%d %H:%M:%S'))\n",
    "    f.close()\n",
    "    \n",
    "\n",
    "def start_heartbeat():\n",
    "    running=True\n",
    "    while running:\n",
    "        if exchanger.running:\n",
    "            #if alive\n",
    "            heartbeat()\n",
    "            time.sleep(sleep_interval)\n",
    "        else:\n",
    "            running=False\n",
    "            print('Tuobi Exchanger is offline.')\n",
    "\n",
    "thread_heartbeat=Thread(target=start_heartbeat)\n",
    "thread_heartbeat.start()"
   ]
  },
  {
   "cell_type": "code",
   "execution_count": 15,
   "metadata": {
    "collapsed": true
   },
   "outputs": [],
   "source": [
    "component_register=myzmq.subscriber('component_register')"
   ]
  },
  {
   "cell_type": "code",
   "execution_count": null,
   "metadata": {
    "collapsed": true
   },
   "outputs": [],
   "source": [
    "comp=component_register.receive_string()\n"
   ]
  }
 ],
 "metadata": {
  "kernelspec": {
   "display_name": "Python 3",
   "language": "python",
   "name": "python3"
  },
  "language_info": {
   "codemirror_mode": {
    "name": "ipython",
    "version": 3
   },
   "file_extension": ".py",
   "mimetype": "text/x-python",
   "name": "python",
   "nbconvert_exporter": "python",
   "pygments_lexer": "ipython3",
   "version": "3.5.2"
  },
  "varInspector": {
   "cols": {
    "lenName": 16,
    "lenType": 16,
    "lenVar": 40
   },
   "kernels_config": {
    "python": {
     "delete_cmd_postfix": "",
     "delete_cmd_prefix": "del ",
     "library": "var_list.py",
     "varRefreshCmd": "print(var_dic_list())"
    },
    "r": {
     "delete_cmd_postfix": ") ",
     "delete_cmd_prefix": "rm(",
     "library": "var_list.r",
     "varRefreshCmd": "cat(var_dic_list()) "
    }
   },
   "types_to_exclude": [
    "module",
    "function",
    "builtin_function_or_method",
    "instance",
    "_Feature"
   ],
   "window_display": false
  }
 },
 "nbformat": 4,
 "nbformat_minor": 2
}
